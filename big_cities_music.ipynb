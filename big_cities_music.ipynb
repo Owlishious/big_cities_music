{
 "cells": [
  {
   "cell_type": "markdown",
   "id": "f4f845d7",
   "metadata": {},
   "source": [
    "# Исследование данных сервиса “Яндекс.Музыка” — сравнение пользователей двух городов"
   ]
  },
  {
   "cell_type": "markdown",
   "id": "d33f14c4",
   "metadata": {},
   "source": [
    "Сравнение Москвы и Петербурга окружено мифами. Например:\n",
    " * Москва — мегаполис, подчинённый жёсткому ритму рабочей недели;\n",
    " * Петербург — культурная столица, со своими вкусами.\n",
    "\n",
    "На данных Яндекс Музыки вы сравните поведение пользователей двух столиц.\n",
    "\n",
    "**Цель исследования** — проверьте три гипотезы:\n",
    "1. Активность пользователей зависит от дня недели. Причём в Москве и Петербурге это проявляется по-разному.\n",
    "2. В понедельник утром в Москве преобладают одни жанры, а в Петербурге — другие. Так же и вечером пятницы преобладают разные жанры — в зависимости от города. \n",
    "3. Москва и Петербург предпочитают разные жанры музыки. В Москве чаще слушают поп-музыку, в Петербурге — русский рэп.\n",
    "\n",
    "**Данные**\n",
    "Данные о поведении пользователей вы получите из файла `yandex_music_project.csv`. О качестве данных ничего не известно. Поэтому перед проверкой гипотез понадобится обзор данных. \n",
    "\n",
    "Согласно документации к данным:\n",
    "\n",
    "- userID — идентификатор пользователя;\n",
    "- Track — название трека;\n",
    "- artist — имя исполнителя;\n",
    "- genre — название жанра;\n",
    "- City — город пользователя;\n",
    "- time — время начала прослушивания;\n",
    "- Day — день недели.\n",
    "\n",
    "**Ход исследования**\n",
    "Таким образом, исследование пройдёт в три этапа:\n",
    " 1. Обзор данных.\n",
    " 2. Предобработка данных.\n",
    " 3. Проверка гипотез."
   ]
  },
  {
   "cell_type": "markdown",
   "id": "3ad6229d",
   "metadata": {},
   "source": [
    "## Обзор данных"
   ]
  },
  {
   "cell_type": "code",
   "execution_count": 54,
   "id": "fff092c9",
   "metadata": {},
   "outputs": [],
   "source": [
    "# импорт библиотеки pandas\n",
    "import pandas as pd\n",
    "import matplotlib.pyplot as plt"
   ]
  },
  {
   "cell_type": "code",
   "execution_count": 36,
   "id": "038a59c0",
   "metadata": {},
   "outputs": [
    {
     "data": {
      "text/html": [
       "<div>\n",
       "<style scoped>\n",
       "    .dataframe tbody tr th:only-of-type {\n",
       "        vertical-align: middle;\n",
       "    }\n",
       "\n",
       "    .dataframe tbody tr th {\n",
       "        vertical-align: top;\n",
       "    }\n",
       "\n",
       "    .dataframe thead th {\n",
       "        text-align: right;\n",
       "    }\n",
       "</style>\n",
       "<table border=\"1\" class=\"dataframe\">\n",
       "  <thead>\n",
       "    <tr style=\"text-align: right;\">\n",
       "      <th></th>\n",
       "      <th>userID</th>\n",
       "      <th>Track</th>\n",
       "      <th>artist</th>\n",
       "      <th>genre</th>\n",
       "      <th>City</th>\n",
       "      <th>time</th>\n",
       "      <th>Day</th>\n",
       "    </tr>\n",
       "  </thead>\n",
       "  <tbody>\n",
       "    <tr>\n",
       "      <th>0</th>\n",
       "      <td>FFB692EC</td>\n",
       "      <td>Kamigata To Boots</td>\n",
       "      <td>The Mass Missile</td>\n",
       "      <td>rock</td>\n",
       "      <td>Saint-Petersburg</td>\n",
       "      <td>20:28:33</td>\n",
       "      <td>Wednesday</td>\n",
       "    </tr>\n",
       "    <tr>\n",
       "      <th>1</th>\n",
       "      <td>55204538</td>\n",
       "      <td>Delayed Because of Accident</td>\n",
       "      <td>Andreas Rönnberg</td>\n",
       "      <td>rock</td>\n",
       "      <td>Moscow</td>\n",
       "      <td>14:07:09</td>\n",
       "      <td>Friday</td>\n",
       "    </tr>\n",
       "    <tr>\n",
       "      <th>2</th>\n",
       "      <td>20EC38</td>\n",
       "      <td>Funiculì funiculà</td>\n",
       "      <td>Mario Lanza</td>\n",
       "      <td>pop</td>\n",
       "      <td>Saint-Petersburg</td>\n",
       "      <td>20:58:07</td>\n",
       "      <td>Wednesday</td>\n",
       "    </tr>\n",
       "    <tr>\n",
       "      <th>3</th>\n",
       "      <td>A3DD03C9</td>\n",
       "      <td>Dragons in the Sunset</td>\n",
       "      <td>Fire + Ice</td>\n",
       "      <td>folk</td>\n",
       "      <td>Saint-Petersburg</td>\n",
       "      <td>08:37:09</td>\n",
       "      <td>Monday</td>\n",
       "    </tr>\n",
       "    <tr>\n",
       "      <th>4</th>\n",
       "      <td>E2DC1FAE</td>\n",
       "      <td>Soul People</td>\n",
       "      <td>Space Echo</td>\n",
       "      <td>dance</td>\n",
       "      <td>Moscow</td>\n",
       "      <td>08:34:34</td>\n",
       "      <td>Monday</td>\n",
       "    </tr>\n",
       "    <tr>\n",
       "      <th>5</th>\n",
       "      <td>842029A1</td>\n",
       "      <td>Преданная</td>\n",
       "      <td>IMPERVTOR</td>\n",
       "      <td>rusrap</td>\n",
       "      <td>Saint-Petersburg</td>\n",
       "      <td>13:09:41</td>\n",
       "      <td>Friday</td>\n",
       "    </tr>\n",
       "    <tr>\n",
       "      <th>6</th>\n",
       "      <td>4CB90AA5</td>\n",
       "      <td>True</td>\n",
       "      <td>Roman Messer</td>\n",
       "      <td>dance</td>\n",
       "      <td>Moscow</td>\n",
       "      <td>13:00:07</td>\n",
       "      <td>Wednesday</td>\n",
       "    </tr>\n",
       "    <tr>\n",
       "      <th>7</th>\n",
       "      <td>F03E1C1F</td>\n",
       "      <td>Feeling This Way</td>\n",
       "      <td>Polina Griffith</td>\n",
       "      <td>dance</td>\n",
       "      <td>Moscow</td>\n",
       "      <td>20:47:49</td>\n",
       "      <td>Wednesday</td>\n",
       "    </tr>\n",
       "    <tr>\n",
       "      <th>8</th>\n",
       "      <td>8FA1D3BE</td>\n",
       "      <td>И вновь продолжается бой</td>\n",
       "      <td>NaN</td>\n",
       "      <td>ruspop</td>\n",
       "      <td>Moscow</td>\n",
       "      <td>09:17:40</td>\n",
       "      <td>Friday</td>\n",
       "    </tr>\n",
       "    <tr>\n",
       "      <th>9</th>\n",
       "      <td>E772D5C0</td>\n",
       "      <td>Pessimist</td>\n",
       "      <td>NaN</td>\n",
       "      <td>dance</td>\n",
       "      <td>Saint-Petersburg</td>\n",
       "      <td>21:20:49</td>\n",
       "      <td>Wednesday</td>\n",
       "    </tr>\n",
       "  </tbody>\n",
       "</table>\n",
       "</div>"
      ],
      "text/plain": [
       "     userID                        Track            artist   genre  \\\n",
       "0  FFB692EC            Kamigata To Boots  The Mass Missile    rock   \n",
       "1  55204538  Delayed Because of Accident  Andreas Rönnberg    rock   \n",
       "2    20EC38            Funiculì funiculà       Mario Lanza     pop   \n",
       "3  A3DD03C9        Dragons in the Sunset        Fire + Ice    folk   \n",
       "4  E2DC1FAE                  Soul People        Space Echo   dance   \n",
       "5  842029A1                    Преданная         IMPERVTOR  rusrap   \n",
       "6  4CB90AA5                         True      Roman Messer   dance   \n",
       "7  F03E1C1F             Feeling This Way   Polina Griffith   dance   \n",
       "8  8FA1D3BE     И вновь продолжается бой               NaN  ruspop   \n",
       "9  E772D5C0                    Pessimist               NaN   dance   \n",
       "\n",
       "             City        time        Day  \n",
       "0  Saint-Petersburg  20:28:33  Wednesday  \n",
       "1            Moscow  14:07:09     Friday  \n",
       "2  Saint-Petersburg  20:58:07  Wednesday  \n",
       "3  Saint-Petersburg  08:37:09     Monday  \n",
       "4            Moscow  08:34:34     Monday  \n",
       "5  Saint-Petersburg  13:09:41     Friday  \n",
       "6            Moscow  13:00:07  Wednesday  \n",
       "7            Moscow  20:47:49  Wednesday  \n",
       "8            Moscow  09:17:40     Friday  \n",
       "9  Saint-Petersburg  21:20:49  Wednesday  "
      ]
     },
     "execution_count": 36,
     "metadata": {},
     "output_type": "execute_result"
    }
   ],
   "source": [
    "# чтение файла с данными и сохранение в df\n",
    "# сохраняем датасет в переменную data\n",
    "try:\n",
    "    df = pd.read_csv('/datasets/yandex_music_project.csv')\n",
    "except:\n",
    "    df = pd.read_csv('datasets/yandex_music_project.csv')\n",
    "    \n",
    "df.head(10)"
   ]
  },
  {
   "cell_type": "code",
   "execution_count": 37,
   "id": "1d771058",
   "metadata": {},
   "outputs": [
    {
     "name": "stdout",
     "output_type": "stream",
     "text": [
      "<class 'pandas.core.frame.DataFrame'>\n",
      "RangeIndex: 65079 entries, 0 to 65078\n",
      "Data columns (total 7 columns):\n",
      " #   Column    Non-Null Count  Dtype \n",
      "---  ------    --------------  ----- \n",
      " 0     userID  65079 non-null  object\n",
      " 1   Track     63848 non-null  object\n",
      " 2   artist    57876 non-null  object\n",
      " 3   genre     63881 non-null  object\n",
      " 4     City    65079 non-null  object\n",
      " 5   time      65079 non-null  object\n",
      " 6   Day       65079 non-null  object\n",
      "dtypes: object(7)\n",
      "memory usage: 3.5+ MB\n"
     ]
    }
   ],
   "source": [
    "# получение общей информации о данных в таблице df\n",
    "df.info()"
   ]
  },
  {
   "cell_type": "markdown",
   "id": "40fde959",
   "metadata": {},
   "source": [
    "Итак, в таблице семь столбцов. Тип данных во всех столбцах — `object`.\n",
    "\n",
    "Согласно документации к данным:\n",
    "* `userID` — идентификатор пользователя;\n",
    "* `Track` — название трека;  \n",
    "* `artist` — имя исполнителя;\n",
    "* `genre` — название жанра;\n",
    "* `City` — город пользователя;\n",
    "* `time` — время начала прослушивания;\n",
    "* `Day` — день недели.\n",
    "\n",
    "Количество значений в столбцах различается. Значит, в данных есть пропущенные значения."
   ]
  },
  {
   "cell_type": "markdown",
   "id": "328d08f4",
   "metadata": {},
   "source": [
    "**Выводы**\n",
    "\n",
    "В каждой строке таблицы — данные о прослушанном треке. Часть колонок описывает саму композицию: название, исполнителя и жанр. Остальные данные рассказывают о пользователе: из какого он города, когда он слушал музыку. \n",
    "\n",
    "Предварительно можно утверждать, что данных достаточно для проверки гипотез. Но встречаются пропуски в данных, а в названиях колонок — расхождения с хорошим стилем.\n",
    "\n",
    "Чтобы двигаться дальше, нужно устранить проблемы в данных."
   ]
  },
  {
   "cell_type": "markdown",
   "id": "dbc02c65",
   "metadata": {},
   "source": [
    "## Предобработка данных\n",
    "Исправьте стиль в заголовках столбцов, исключите пропуски. Затем проверьте данные на дубликаты."
   ]
  },
  {
   "cell_type": "markdown",
   "id": "0014a263",
   "metadata": {},
   "source": [
    "1. Переименуем колонки:\n",
    "* `'  userID'` → `'user_id'`;\n",
    "* `'Track'` → `'track'`;\n",
    "* `'  City  '` → `'city'`;\n",
    "* `'Day'` → `'day'`."
   ]
  },
  {
   "cell_type": "code",
   "execution_count": 38,
   "id": "01e22be0",
   "metadata": {},
   "outputs": [
    {
     "data": {
      "text/plain": [
       "Index(['user_id', 'track', 'artist', 'genre', 'city', 'time', 'day'], dtype='object')"
      ]
     },
     "execution_count": 38,
     "metadata": {},
     "output_type": "execute_result"
    }
   ],
   "source": [
    "# переименование столбцов\n",
    "df = df.rename(columns={'  userID': 'user_id', 'Track': 'track', '  City  ': 'city', 'Day': 'day'})\n",
    "df.columns"
   ]
  },
  {
   "cell_type": "markdown",
   "id": "1eb5e023",
   "metadata": {},
   "source": [
    "2. Изучим пропуски"
   ]
  },
  {
   "cell_type": "code",
   "execution_count": 39,
   "id": "0cbe7ea3",
   "metadata": {},
   "outputs": [
    {
     "data": {
      "text/plain": [
       "user_id       0\n",
       "track      1231\n",
       "artist     7203\n",
       "genre      1198\n",
       "city          0\n",
       "time          0\n",
       "day           0\n",
       "dtype: int64"
      ]
     },
     "execution_count": 39,
     "metadata": {},
     "output_type": "execute_result"
    }
   ],
   "source": [
    "# подсчёт пропусков\n",
    "df.isna().sum()"
   ]
  },
  {
   "cell_type": "markdown",
   "id": "860df96c",
   "metadata": {},
   "source": [
    "Пропуски в данных по-разному влияют на исследование. \n",
    "\n",
    "Так, мы не исследуем названия треков `track` и имена артистов `artist`, поэтому пропуски можем заполнить каким-то значением, например \"unknown\".\n",
    "\n",
    "А вот жанр - `genre` - один из предметов нашего исследования, их наличие может помешать сравнению музыкальных вкусов в Москве и Санкт-Петербурге. На практике было бы правильно установить причину пропусков и восстановить данные. Такой возможности нет в учебном проекте. Придётся:\n",
    "* заполнить и эти пропуски явными обозначениями;\n",
    "* оценить, насколько они повредят расчётам. "
   ]
  },
  {
   "cell_type": "code",
   "execution_count": 41,
   "id": "8847e5a3",
   "metadata": {},
   "outputs": [],
   "source": [
    "# перебор названий столбцов в цикле и замена пропущенных значений на 'unknown'\n",
    "columns_to_replace = ['track', 'artist', 'genre']\n",
    "\n",
    "for col_name in columns_to_replace:\n",
    "    df[col_name] = df[col_name].fillna('unknown')"
   ]
  },
  {
   "cell_type": "markdown",
   "id": "f11e4e64",
   "metadata": {},
   "source": [
    "3. Удаление дубликатов"
   ]
  },
  {
   "cell_type": "code",
   "execution_count": 42,
   "id": "ca9900a7",
   "metadata": {},
   "outputs": [
    {
     "name": "stdout",
     "output_type": "stream",
     "text": [
      "3826 явных дубликатов найдено\n",
      "Все дубликаты удалены\n"
     ]
    }
   ],
   "source": [
    "# сначала избавимся от явных дубликатов\n",
    "print(df.duplicated().sum(), \"явных дубликатов найдено\")\n",
    "df = df.drop_duplicates().reset_index(drop=True)\n",
    "if df.duplicated().sum() == 0: print('Все дубликаты удалены')"
   ]
  },
  {
   "cell_type": "markdown",
   "id": "2a958a0f",
   "metadata": {},
   "source": [
    "Теперь разберемся с неявными дубликатами в колонке `genre`. Например, название одного и того же жанра может быть записано немного по-разному. Такие ошибки тоже повлияют на результат исследования."
   ]
  },
  {
   "cell_type": "code",
   "execution_count": 43,
   "id": "b8306628",
   "metadata": {},
   "outputs": [
    {
     "name": "stdout",
     "output_type": "stream",
     "text": [
      "['acid' 'acoustic' 'action' 'adult' 'africa' 'afrikaans' 'alternative'\n",
      " 'alternativepunk' 'ambient' 'americana' 'animated' 'anime' 'arabesk'\n",
      " 'arabic' 'arena' 'argentinetango' 'art' 'audiobook' 'author' 'avantgarde'\n",
      " 'axé' 'baile' 'balkan' 'beats' 'bigroom' 'black' 'bluegrass' 'blues'\n",
      " 'bollywood' 'bossa' 'brazilian' 'breakbeat' 'breaks' 'broadway'\n",
      " 'cantautori' 'cantopop' 'canzone' 'caribbean' 'caucasian' 'celtic'\n",
      " 'chamber' 'chanson' 'children' 'chill' 'chinese' 'choral' 'christian'\n",
      " 'christmas' 'classical' 'classicmetal' 'club' 'colombian' 'comedy'\n",
      " 'conjazz' 'contemporary' 'country' 'cuban' 'dance' 'dancehall' 'dancepop'\n",
      " 'dark' 'death' 'deep' 'deutschrock' 'deutschspr' 'dirty' 'disco' 'dnb'\n",
      " 'documentary' 'downbeat' 'downtempo' 'drum' 'dub' 'dubstep' 'eastern'\n",
      " 'easy' 'electronic' 'electropop' 'emo' 'entehno' 'epicmetal' 'estrada'\n",
      " 'ethnic' 'eurofolk' 'european' 'experimental' 'extrememetal' 'fado'\n",
      " 'fairytail' 'film' 'fitness' 'flamenco' 'folk' 'folklore' 'folkmetal'\n",
      " 'folkrock' 'folktronica' 'forró' 'frankreich' 'französisch' 'french'\n",
      " 'funk' 'future' 'gangsta' 'garage' 'german' 'ghazal' 'gitarre' 'glitch'\n",
      " 'gospel' 'gothic' 'grime' 'grunge' 'gypsy' 'handsup' \"hard'n'heavy\"\n",
      " 'hardcore' 'hardstyle' 'hardtechno' 'hip' 'hip-hop' 'hiphop' 'historisch'\n",
      " 'holiday' 'hop' 'horror' 'house' 'hymn' 'idm' 'independent' 'indian'\n",
      " 'indie' 'indipop' 'industrial' 'inspirational' 'instrumental'\n",
      " 'international' 'irish' 'jam' 'japanese' 'jazz' 'jewish' 'jpop' 'jungle'\n",
      " 'k-pop' 'karadeniz' 'karaoke' 'kayokyoku' 'korean' 'laiko' 'latin'\n",
      " 'latino' 'leftfield' 'local' 'lounge' 'loungeelectronic' 'lovers'\n",
      " 'malaysian' 'mandopop' 'marschmusik' 'meditative' 'mediterranean'\n",
      " 'melodic' 'metal' 'metalcore' 'mexican' 'middle' 'minimal'\n",
      " 'miscellaneous' 'modern' 'mood' 'mpb' 'muslim' 'native' 'neoklassik'\n",
      " 'neue' 'new' 'newage' 'newwave' 'nu' 'nujazz' 'numetal' 'oceania' 'old'\n",
      " 'opera' 'orchestral' 'other' 'piano' 'podcasts' 'pop' 'popdance'\n",
      " 'popelectronic' 'popeurodance' 'poprussian' 'post' 'posthardcore'\n",
      " 'postrock' 'power' 'progmetal' 'progressive' 'psychedelic' 'punjabi'\n",
      " 'punk' 'quebecois' 'ragga' 'ram' 'rancheras' 'rap' 'rave' 'reggae'\n",
      " 'reggaeton' 'regional' 'relax' 'religious' 'retro' 'rhythm' 'rnb' 'rnr'\n",
      " 'rock' 'rockabilly' 'rockalternative' 'rockindie' 'rockother' 'romance'\n",
      " 'roots' 'ruspop' 'rusrap' 'rusrock' 'russian' 'salsa' 'samba' 'scenic'\n",
      " 'schlager' 'self' 'sertanejo' 'shanson' 'shoegazing' 'showtunes' 'singer'\n",
      " 'ska' 'skarock' 'slow' 'smooth' 'soft' 'soul' 'soulful' 'sound'\n",
      " 'soundtrack' 'southern' 'specialty' 'speech' 'spiritual' 'sport'\n",
      " 'stonerrock' 'surf' 'swing' 'synthpop' 'synthrock' 'sängerportrait'\n",
      " 'tango' 'tanzorchester' 'taraftar' 'tatar' 'tech' 'techno' 'teen'\n",
      " 'thrash' 'top' 'traditional' 'tradjazz' 'trance' 'tribal' 'trip'\n",
      " 'triphop' 'tropical' 'türk' 'türkçe' 'ukrrock' 'unknown' 'urban' 'uzbek'\n",
      " 'variété' 'vi' 'videogame' 'vocal' 'western' 'world' 'worldbeat' 'ïîï'\n",
      " 'электроника']\n"
     ]
    }
   ],
   "source": [
    "# Просмотр уникальных названий жанров\n",
    "print(df['genre'].sort_values().unique())"
   ]
  },
  {
   "cell_type": "markdown",
   "id": "82cdac6f",
   "metadata": {},
   "source": [
    "Замечены следующие варианты дубликатов:\n",
    "- для жанра **hiphop**: *hip*, *hop*, *hip-hop*;\n",
    "- для жанра **electronic**: *электроника*.\n",
    "\n",
    "Устраним такие дубликаты."
   ]
  },
  {
   "cell_type": "code",
   "execution_count": 44,
   "id": "012c4380",
   "metadata": {},
   "outputs": [],
   "source": [
    "def clear_duplicates (df, name, duplicates):\n",
    "    \n",
    "    df['genre'] = df['genre'].replace(duplicates, name)\n",
    "    return df\n",
    "    "
   ]
  },
  {
   "cell_type": "code",
   "execution_count": 45,
   "id": "4ad79487",
   "metadata": {},
   "outputs": [],
   "source": [
    "# Устранение неявных дубликатов\n",
    "duplicates = ['hip', 'hop', 'hip-hop'] # список неправильных названий\n",
    "name = 'hiphop' # правильное название\n",
    "df = clear_duplicates(df, 'hiphop', ['hip', 'hop', 'hip-hop'])\n",
    "df = clear_duplicates(df, 'electronic', ['электроника'])"
   ]
  },
  {
   "cell_type": "markdown",
   "id": "db15bc18",
   "metadata": {},
   "source": [
    "**Выводы**\n",
    "\n",
    "Предобработка обнаружила три проблемы в данных:\n",
    "\n",
    "- нарушения в стиле заголовков,\n",
    "- пропущенные значения,\n",
    "- дубликаты — явные и неявные.\n",
    "\n",
    "Вы исправили заголовки, чтобы упростить работу с таблицей. Без дубликатов исследование станет более точным.\n",
    "\n",
    "Пропущенные значения вы заменили на `'unknown'`. Ещё предстоит увидеть, не повредят ли исследованию пропуски в колонке `genre`.\n",
    "\n",
    "Теперь можно перейти к проверке гипотез. "
   ]
  },
  {
   "cell_type": "markdown",
   "id": "99d9c1f1",
   "metadata": {},
   "source": [
    "## Проверка гипотез\n",
    "### Сравнение поведения пользователей двух столиц\n",
    "Первая гипотеза утверждает, что пользователи по-разному слушают музыку в Москве и Санкт-Петербурге. Проверим это предположение по данным о трёх днях недели — понедельнике, среде и пятнице. Для этого:\n",
    "\n",
    "* Разделим пользователей Москвы и Санкт-Петербурга.\n",
    "* Сравним, сколько треков послушала каждая группа пользователей в понедельник, среду и пятницу.\n"
   ]
  },
  {
   "cell_type": "code",
   "execution_count": 47,
   "id": "18c21d31",
   "metadata": {},
   "outputs": [
    {
     "data": {
      "text/plain": [
       "city\n",
       "Moscow              42741\n",
       "Saint-Petersburg    18512\n",
       "Name: track, dtype: int64"
      ]
     },
     "execution_count": 47,
     "metadata": {},
     "output_type": "execute_result"
    }
   ],
   "source": [
    "# Подсчёт прослушиваний в каждом городе\n",
    "grouped_plays_by_city = df.groupby('city')['track'].count()\n",
    "grouped_plays_by_city"
   ]
  },
  {
   "cell_type": "code",
   "execution_count": 48,
   "id": "47ba6bf7",
   "metadata": {},
   "outputs": [
    {
     "data": {
      "text/plain": [
       "day\n",
       "Friday       21840\n",
       "Monday       21354\n",
       "Wednesday    18059\n",
       "Name: track, dtype: int64"
      ]
     },
     "execution_count": 48,
     "metadata": {},
     "output_type": "execute_result"
    }
   ],
   "source": [
    "# Подсчёт прослушиваний в каждый из трёх дней\n",
    "plays_all_days = df.groupby('day')['track'].count()\n",
    "plays_all_days"
   ]
  },
  {
   "cell_type": "markdown",
   "id": "6bedfe98",
   "metadata": {},
   "source": [
    "В общем виде пользователи из двух городов менее активны по средам. Но картина может измениться, если рассмотреть каждый город в отдельности."
   ]
  },
  {
   "cell_type": "code",
   "execution_count": 49,
   "id": "b95bdd9f",
   "metadata": {},
   "outputs": [],
   "source": [
    "def number_tracks(day, city):\n",
    "    \n",
    "    # Функция для подсчёта прослушиваний для конкретного города и дня.\\\n",
    "    \n",
    "    track_list = df[(df['day'] == day) & (df['city'] == city)]\n",
    "    track_list_count = track_list['user_id'].count()\n",
    "    return track_list_count"
   ]
  },
  {
   "cell_type": "code",
   "execution_count": 73,
   "id": "a8284e7a",
   "metadata": {},
   "outputs": [
    {
     "data": {
      "text/html": [
       "<div>\n",
       "<style scoped>\n",
       "    .dataframe tbody tr th:only-of-type {\n",
       "        vertical-align: middle;\n",
       "    }\n",
       "\n",
       "    .dataframe tbody tr th {\n",
       "        vertical-align: top;\n",
       "    }\n",
       "\n",
       "    .dataframe thead th {\n",
       "        text-align: right;\n",
       "    }\n",
       "</style>\n",
       "<table border=\"1\" class=\"dataframe\">\n",
       "  <thead>\n",
       "    <tr style=\"text-align: right;\">\n",
       "      <th>city</th>\n",
       "      <th>Moscow</th>\n",
       "      <th>Saint-Petersburg</th>\n",
       "    </tr>\n",
       "  </thead>\n",
       "  <tbody>\n",
       "    <tr>\n",
       "      <th>monday</th>\n",
       "      <td>15740</td>\n",
       "      <td>5614</td>\n",
       "    </tr>\n",
       "    <tr>\n",
       "      <th>wednesday</th>\n",
       "      <td>11056</td>\n",
       "      <td>7003</td>\n",
       "    </tr>\n",
       "    <tr>\n",
       "      <th>friday</th>\n",
       "      <td>15945</td>\n",
       "      <td>5895</td>\n",
       "    </tr>\n",
       "  </tbody>\n",
       "</table>\n",
       "</div>"
      ],
      "text/plain": [
       "city       Moscow  Saint-Petersburg\n",
       "monday      15740              5614\n",
       "wednesday   11056              7003\n",
       "friday      15945              5895"
      ]
     },
     "execution_count": 73,
     "metadata": {},
     "output_type": "execute_result"
    }
   ],
   "source": [
    "# Таблица с результатами\n",
    "data = [['Moscow', number_tracks('Monday', 'Moscow'), number_tracks('Wednesday', 'Moscow'), \n",
    "        number_tracks('Friday', 'Moscow')],\n",
    "        ['Saint-Petersburg', number_tracks('Monday', 'Saint-Petersburg'), number_tracks('Wednesday', 'Saint-Petersburg'),\n",
    "        number_tracks('Friday', 'Saint-Petersburg')]]\n",
    "columns = ['city', 'monday', 'wednesday', 'friday']\n",
    "\n",
    "plays_by_days = pd.DataFrame(data=data, columns=columns)\n",
    "plays_by_days = plays_by_days.set_index('city')\n",
    "plays_by_days = plays_by_days.T\n",
    "plays_by_days"
   ]
  },
  {
   "cell_type": "code",
   "execution_count": 86,
   "id": "66554820",
   "metadata": {},
   "outputs": [
    {
     "data": {
      "image/png": "[encoded data removed]",
      "text/plain": [
       "<Figure size 720x504 with 1 Axes>"
      ]
     },
     "metadata": {
      "needs_background": "light"
     },
     "output_type": "display_data"
    }
   ],
   "source": [
    "plays_visual = (plays_by_days\n",
    "                .plot(grid=True,\n",
    "                      figsize=(10, 7), \n",
    "                      fontsize=12,\n",
    "                      kind = 'bar'\n",
    "                     ) \n",
    "               )\n",
    "plt.title(label='Прослушивания по дням недели', fontsize=16)\n",
    "plays_visual.set_xlabel('День недели', fontsize=14)\n",
    "plays_visual.set_ylabel('Количество прослушивани', fontsize=14)\n",
    "plt.xticks(rotation=0)\n",
    "plt.show()"
   ]
  },
  {
   "cell_type": "markdown",
   "id": "a424e7e9",
   "metadata": {},
   "source": [
    "**Выводы**\n",
    "\n",
    "Данные показывают разницу поведения пользователей:\n",
    "\n",
    "- В Москве пик прослушиваний приходится на понедельник и пятницу, а в среду заметен спад.\n",
    "- В Петербурге, наоборот, больше слушают музыку по средам. Активность в понедельник и пятницу здесь почти в равной мере уступает среде.\n",
    "\n",
    "Значит, данные говорят в пользу первой гипотезы."
   ]
  },
  {
   "cell_type": "markdown",
   "id": "e5877683",
   "metadata": {},
   "source": [
    "### Музыка в начале и в конце недели\n",
    "Согласно второй гипотезе, утром в понедельник в Москве преобладают одни жанры, а в Петербурге — другие. Так же и вечером пятницы преобладают разные жанры — в зависимости от города."
   ]
  },
  {
   "cell_type": "code",
   "execution_count": 87,
   "id": "e0fd3df1",
   "metadata": {},
   "outputs": [],
   "source": [
    "# получение таблицы moscow_general из тех строк таблицы df, \n",
    "# для которых значение в столбце 'city' равно 'Moscow'\n",
    "moscow_general = df[df['city'] == 'Moscow']\n",
    "\n",
    "# для которых значение в столбце 'city' равно 'Saint-Petersburg'\n",
    "spb_general = df[df['city'] == 'Saint-Petersburg']"
   ]
  },
  {
   "cell_type": "code",
   "execution_count": 126,
   "id": "1a14ffc7",
   "metadata": {},
   "outputs": [],
   "source": [
    "def genre_weekday(df, day, time1, time2):\n",
    "    \n",
    "    # возвращает информацию о самых популярных жанрах в указанный день в заданное время\n",
    "    \n",
    "    genre_df = df[(df['day'] == day) & (df['time'] < time2) & (df['time'] > time1)]\n",
    "    genre_df_grouped = genre_df.groupby('genre')['genre'].count()\n",
    "    genre_df_sorted = genre_df_grouped.sort_values(ascending=False)\n",
    "    return genre_df_sorted[:10]"
   ]
  },
  {
   "cell_type": "markdown",
   "id": "f01d5aa2",
   "metadata": {},
   "source": [
    "Cравните результаты функции `genre_weekday()` для Москвы и Санкт-Петербурга в понедельник утром (с 7:00 до 11:00) и в пятницу вечером (с 17:00 до 23:00):"
   ]
  },
  {
   "cell_type": "code",
   "execution_count": 187,
   "id": "5362825d",
   "metadata": {},
   "outputs": [
    {
     "name": "stdout",
     "output_type": "stream",
     "text": [
      "Monday's morning genre comparison\n"
     ]
    },
    {
     "data": {
      "text/html": [
       "<style type=\"text/css\">\n",
       "#T_3a6a8_row0_col0, #T_3a6a8_row0_col1 {\n",
       "  background-color: #b40426;\n",
       "  color: #f1f1f1;\n",
       "}\n",
       "#T_3a6a8_row1_col0 {\n",
       "  background-color: #f7ac8e;\n",
       "  color: #000000;\n",
       "}\n",
       "#T_3a6a8_row1_col1 {\n",
       "  background-color: #e7745b;\n",
       "  color: #f1f1f1;\n",
       "}\n",
       "#T_3a6a8_row2_col0 {\n",
       "  background-color: #f3c7b1;\n",
       "  color: #000000;\n",
       "}\n",
       "#T_3a6a8_row2_col1 {\n",
       "  background-color: #f7b599;\n",
       "  color: #000000;\n",
       "}\n",
       "#T_3a6a8_row3_col0 {\n",
       "  background-color: #f2c9b4;\n",
       "  color: #000000;\n",
       "}\n",
       "#T_3a6a8_row3_col1 {\n",
       "  background-color: #f59c7d;\n",
       "  color: #000000;\n",
       "}\n",
       "#T_3a6a8_row4_col0, #T_3a6a8_row4_col1 {\n",
       "  background-color: #b5cdfa;\n",
       "  color: #000000;\n",
       "}\n",
       "#T_3a6a8_row5_col0 {\n",
       "  background-color: #88abfd;\n",
       "  color: #000000;\n",
       "}\n",
       "#T_3a6a8_row5_col1 {\n",
       "  background-color: #9dbdff;\n",
       "  color: #000000;\n",
       "}\n",
       "#T_3a6a8_row6_col0 {\n",
       "  background-color: #86a9fc;\n",
       "  color: #f1f1f1;\n",
       "}\n",
       "#T_3a6a8_row6_col1, #T_3a6a8_row9_col1, #T_3a6a8_row10_col0, #T_3a6a8_row11_col0 {\n",
       "  background-color: #3b4cc0;\n",
       "  color: #f1f1f1;\n",
       "}\n",
       "#T_3a6a8_row7_col0 {\n",
       "  background-color: #84a7fc;\n",
       "  color: #f1f1f1;\n",
       "}\n",
       "#T_3a6a8_row7_col1 {\n",
       "  background-color: #8db0fe;\n",
       "  color: #000000;\n",
       "}\n",
       "#T_3a6a8_row8_col0 {\n",
       "  background-color: #7ea1fa;\n",
       "  color: #f1f1f1;\n",
       "}\n",
       "#T_3a6a8_row8_col1 {\n",
       "  background-color: #93b5fe;\n",
       "  color: #000000;\n",
       "}\n",
       "#T_3a6a8_row9_col0 {\n",
       "  background-color: #7da0f9;\n",
       "  color: #f1f1f1;\n",
       "}\n",
       "#T_3a6a8_row10_col1 {\n",
       "  background-color: #7597f6;\n",
       "  color: #f1f1f1;\n",
       "}\n",
       "#T_3a6a8_row11_col1 {\n",
       "  background-color: #7b9ff9;\n",
       "  color: #f1f1f1;\n",
       "}\n",
       "</style>\n",
       "<table id=\"T_3a6a8\">\n",
       "  <thead>\n",
       "    <tr>\n",
       "      <th class=\"blank level0\" >&nbsp;</th>\n",
       "      <th id=\"T_3a6a8_level0_col0\" class=\"col_heading level0 col0\" >Москва</th>\n",
       "      <th id=\"T_3a6a8_level0_col1\" class=\"col_heading level0 col1\" >СПб</th>\n",
       "    </tr>\n",
       "    <tr>\n",
       "      <th class=\"index_name level0\" >genre</th>\n",
       "      <th class=\"blank col0\" >&nbsp;</th>\n",
       "      <th class=\"blank col1\" >&nbsp;</th>\n",
       "    </tr>\n",
       "  </thead>\n",
       "  <tbody>\n",
       "    <tr>\n",
       "      <th id=\"T_3a6a8_level0_row0\" class=\"row_heading level0 row0\" >pop</th>\n",
       "      <td id=\"T_3a6a8_row0_col0\" class=\"data row0 col0\" >781</td>\n",
       "      <td id=\"T_3a6a8_row0_col1\" class=\"data row0 col1\" >218</td>\n",
       "    </tr>\n",
       "    <tr>\n",
       "      <th id=\"T_3a6a8_level0_row1\" class=\"row_heading level0 row1\" >dance</th>\n",
       "      <td id=\"T_3a6a8_row1_col0\" class=\"data row1 col0\" >549</td>\n",
       "      <td id=\"T_3a6a8_row1_col1\" class=\"data row1 col1\" >182</td>\n",
       "    </tr>\n",
       "    <tr>\n",
       "      <th id=\"T_3a6a8_level0_row2\" class=\"row_heading level0 row2\" >electronic</th>\n",
       "      <td id=\"T_3a6a8_row2_col0\" class=\"data row2 col0\" >480</td>\n",
       "      <td id=\"T_3a6a8_row2_col1\" class=\"data row2 col1\" >147</td>\n",
       "    </tr>\n",
       "    <tr>\n",
       "      <th id=\"T_3a6a8_level0_row3\" class=\"row_heading level0 row3\" >rock</th>\n",
       "      <td id=\"T_3a6a8_row3_col0\" class=\"data row3 col0\" >474</td>\n",
       "      <td id=\"T_3a6a8_row3_col1\" class=\"data row3 col1\" >162</td>\n",
       "    </tr>\n",
       "    <tr>\n",
       "      <th id=\"T_3a6a8_level0_row4\" class=\"row_heading level0 row4\" >hiphop</th>\n",
       "      <td id=\"T_3a6a8_row4_col0\" class=\"data row4 col0\" >286</td>\n",
       "      <td id=\"T_3a6a8_row4_col1\" class=\"data row4 col1\" >80</td>\n",
       "    </tr>\n",
       "    <tr>\n",
       "      <th id=\"T_3a6a8_level0_row5\" class=\"row_heading level0 row5\" >ruspop</th>\n",
       "      <td id=\"T_3a6a8_row5_col0\" class=\"data row5 col0\" >186</td>\n",
       "      <td id=\"T_3a6a8_row5_col1\" class=\"data row5 col1\" >64</td>\n",
       "    </tr>\n",
       "    <tr>\n",
       "      <th id=\"T_3a6a8_level0_row6\" class=\"row_heading level0 row6\" >world</th>\n",
       "      <td id=\"T_3a6a8_row6_col0\" class=\"data row6 col0\" >181</td>\n",
       "      <td id=\"T_3a6a8_row6_col1\" class=\"data row6 col1\" >0</td>\n",
       "    </tr>\n",
       "    <tr>\n",
       "      <th id=\"T_3a6a8_level0_row7\" class=\"row_heading level0 row7\" >rusrap</th>\n",
       "      <td id=\"T_3a6a8_row7_col0\" class=\"data row7 col0\" >175</td>\n",
       "      <td id=\"T_3a6a8_row7_col1\" class=\"data row7 col1\" >55</td>\n",
       "    </tr>\n",
       "    <tr>\n",
       "      <th id=\"T_3a6a8_level0_row8\" class=\"row_heading level0 row8\" >alternative</th>\n",
       "      <td id=\"T_3a6a8_row8_col0\" class=\"data row8 col0\" >164</td>\n",
       "      <td id=\"T_3a6a8_row8_col1\" class=\"data row8 col1\" >58</td>\n",
       "    </tr>\n",
       "    <tr>\n",
       "      <th id=\"T_3a6a8_level0_row9\" class=\"row_heading level0 row9\" >unknown</th>\n",
       "      <td id=\"T_3a6a8_row9_col0\" class=\"data row9 col0\" >161</td>\n",
       "      <td id=\"T_3a6a8_row9_col1\" class=\"data row9 col1\" >0</td>\n",
       "    </tr>\n",
       "    <tr>\n",
       "      <th id=\"T_3a6a8_level0_row10\" class=\"row_heading level0 row10\" >classical</th>\n",
       "      <td id=\"T_3a6a8_row10_col0\" class=\"data row10 col0\" >0</td>\n",
       "      <td id=\"T_3a6a8_row10_col1\" class=\"data row10 col1\" >40</td>\n",
       "    </tr>\n",
       "    <tr>\n",
       "      <th id=\"T_3a6a8_level0_row11\" class=\"row_heading level0 row11\" >jazz</th>\n",
       "      <td id=\"T_3a6a8_row11_col0\" class=\"data row11 col0\" >0</td>\n",
       "      <td id=\"T_3a6a8_row11_col1\" class=\"data row11 col1\" >44</td>\n",
       "    </tr>\n",
       "  </tbody>\n",
       "</table>\n"
      ],
      "text/plain": [
       "<pandas.io.formats.style.Styler at 0x18d6f8ac190>"
      ]
     },
     "execution_count": 187,
     "metadata": {},
     "output_type": "execute_result"
    }
   ],
   "source": [
    "#data for Moscow at mondays morning\n",
    "monday_genres1 = genre_weekday(moscow_general, 'Monday', '07:00', '11:00')\n",
    "monday_genres1 = pd.DataFrame(monday_genres1)\n",
    "monday_genres1.columns = ['Москва']\n",
    "\n",
    "#data for SPb at mondays morning\n",
    "monday_genres2 = genre_weekday(spb_general, 'Monday', '07:00', '11:00')\n",
    "monday_genres2 = pd.DataFrame(monday_genres2)\n",
    "monday_genres2.columns = ['СПб']\n",
    "\n",
    "# resulting table\n",
    "monday = monday_genres1.merge(monday_genres2, left_index=True, right_index=True, how='outer').fillna(0)\n",
    "monday = monday.astype(int)\n",
    "print(\"Monday's morning genre comparison\")\n",
    "monday.sort_values(by='Москва', ascending=False).style.background_gradient('coolwarm')"
   ]
  },
  {
   "cell_type": "code",
   "execution_count": 189,
   "id": "15f2f38a",
   "metadata": {},
   "outputs": [
    {
     "name": "stdout",
     "output_type": "stream",
     "text": [
      "Friday's evening genre comparison\n"
     ]
    },
    {
     "data": {
      "text/html": [
       "<style type=\"text/css\">\n",
       "#T_6aa34_row0_col0, #T_6aa34_row0_col1 {\n",
       "  background-color: #b40426;\n",
       "  color: #f1f1f1;\n",
       "}\n",
       "#T_6aa34_row1_col0 {\n",
       "  background-color: #f6a385;\n",
       "  color: #000000;\n",
       "}\n",
       "#T_6aa34_row1_col1, #T_6aa34_row3_col1 {\n",
       "  background-color: #e46e56;\n",
       "  color: #f1f1f1;\n",
       "}\n",
       "#T_6aa34_row2_col0 {\n",
       "  background-color: #f7af91;\n",
       "  color: #000000;\n",
       "}\n",
       "#T_6aa34_row2_col1 {\n",
       "  background-color: #e97a5f;\n",
       "  color: #f1f1f1;\n",
       "}\n",
       "#T_6aa34_row3_col0 {\n",
       "  background-color: #f7b497;\n",
       "  color: #000000;\n",
       "}\n",
       "#T_6aa34_row4_col0 {\n",
       "  background-color: #bbd1f8;\n",
       "  color: #000000;\n",
       "}\n",
       "#T_6aa34_row4_col1 {\n",
       "  background-color: #bad0f8;\n",
       "  color: #000000;\n",
       "}\n",
       "#T_6aa34_row5_col0 {\n",
       "  background-color: #9bbcff;\n",
       "  color: #000000;\n",
       "}\n",
       "#T_6aa34_row5_col1 {\n",
       "  background-color: #80a3fa;\n",
       "  color: #f1f1f1;\n",
       "}\n",
       "#T_6aa34_row6_col0, #T_6aa34_row10_col1 {\n",
       "  background-color: #89acfd;\n",
       "  color: #000000;\n",
       "}\n",
       "#T_6aa34_row6_col1, #T_6aa34_row10_col0 {\n",
       "  background-color: #3b4cc0;\n",
       "  color: #f1f1f1;\n",
       "}\n",
       "#T_6aa34_row7_col0, #T_6aa34_row8_col0 {\n",
       "  background-color: #85a8fc;\n",
       "  color: #f1f1f1;\n",
       "}\n",
       "#T_6aa34_row7_col1 {\n",
       "  background-color: #8caffe;\n",
       "  color: #000000;\n",
       "}\n",
       "#T_6aa34_row8_col1 {\n",
       "  background-color: #88abfd;\n",
       "  color: #000000;\n",
       "}\n",
       "#T_6aa34_row9_col0 {\n",
       "  background-color: #7a9df8;\n",
       "  color: #f1f1f1;\n",
       "}\n",
       "#T_6aa34_row9_col1 {\n",
       "  background-color: #86a9fc;\n",
       "  color: #f1f1f1;\n",
       "}\n",
       "</style>\n",
       "<table id=\"T_6aa34\">\n",
       "  <thead>\n",
       "    <tr>\n",
       "      <th class=\"blank level0\" >&nbsp;</th>\n",
       "      <th id=\"T_6aa34_level0_col0\" class=\"col_heading level0 col0\" >Москва</th>\n",
       "      <th id=\"T_6aa34_level0_col1\" class=\"col_heading level0 col1\" >СПб</th>\n",
       "    </tr>\n",
       "    <tr>\n",
       "      <th class=\"index_name level0\" >genre</th>\n",
       "      <th class=\"blank col0\" >&nbsp;</th>\n",
       "      <th class=\"blank col1\" >&nbsp;</th>\n",
       "    </tr>\n",
       "  </thead>\n",
       "  <tbody>\n",
       "    <tr>\n",
       "      <th id=\"T_6aa34_level0_row0\" class=\"row_heading level0 row0\" >pop</th>\n",
       "      <td id=\"T_6aa34_row0_col0\" class=\"data row0 col0\" >713</td>\n",
       "      <td id=\"T_6aa34_row0_col1\" class=\"data row0 col1\" >256</td>\n",
       "    </tr>\n",
       "    <tr>\n",
       "      <th id=\"T_6aa34_level0_row1\" class=\"row_heading level0 row1\" >rock</th>\n",
       "      <td id=\"T_6aa34_row1_col0\" class=\"data row1 col0\" >517</td>\n",
       "      <td id=\"T_6aa34_row1_col1\" class=\"data row1 col1\" >216</td>\n",
       "    </tr>\n",
       "    <tr>\n",
       "      <th id=\"T_6aa34_level0_row2\" class=\"row_heading level0 row2\" >dance</th>\n",
       "      <td id=\"T_6aa34_row2_col0\" class=\"data row2 col0\" >495</td>\n",
       "      <td id=\"T_6aa34_row2_col1\" class=\"data row2 col1\" >210</td>\n",
       "    </tr>\n",
       "    <tr>\n",
       "      <th id=\"T_6aa34_level0_row3\" class=\"row_heading level0 row3\" >electronic</th>\n",
       "      <td id=\"T_6aa34_row3_col0\" class=\"data row3 col0\" >482</td>\n",
       "      <td id=\"T_6aa34_row3_col1\" class=\"data row3 col1\" >216</td>\n",
       "    </tr>\n",
       "    <tr>\n",
       "      <th id=\"T_6aa34_level0_row4\" class=\"row_heading level0 row4\" >hiphop</th>\n",
       "      <td id=\"T_6aa34_row4_col0\" class=\"data row4 col0\" >273</td>\n",
       "      <td id=\"T_6aa34_row4_col1\" class=\"data row4 col1\" >97</td>\n",
       "    </tr>\n",
       "    <tr>\n",
       "      <th id=\"T_6aa34_level0_row5\" class=\"row_heading level0 row5\" >world</th>\n",
       "      <td id=\"T_6aa34_row5_col0\" class=\"data row5 col0\" >208</td>\n",
       "      <td id=\"T_6aa34_row5_col1\" class=\"data row5 col1\" >54</td>\n",
       "    </tr>\n",
       "    <tr>\n",
       "      <th id=\"T_6aa34_level0_row6\" class=\"row_heading level0 row6\" >ruspop</th>\n",
       "      <td id=\"T_6aa34_row6_col0\" class=\"data row6 col0\" >170</td>\n",
       "      <td id=\"T_6aa34_row6_col1\" class=\"data row6 col1\" >0</td>\n",
       "    </tr>\n",
       "    <tr>\n",
       "      <th id=\"T_6aa34_level0_row7\" class=\"row_heading level0 row7\" >alternative</th>\n",
       "      <td id=\"T_6aa34_row7_col0\" class=\"data row7 col0\" >163</td>\n",
       "      <td id=\"T_6aa34_row7_col1\" class=\"data row7 col1\" >63</td>\n",
       "    </tr>\n",
       "    <tr>\n",
       "      <th id=\"T_6aa34_level0_row8\" class=\"row_heading level0 row8\" >classical</th>\n",
       "      <td id=\"T_6aa34_row8_col0\" class=\"data row8 col0\" >163</td>\n",
       "      <td id=\"T_6aa34_row8_col1\" class=\"data row8 col1\" >60</td>\n",
       "    </tr>\n",
       "    <tr>\n",
       "      <th id=\"T_6aa34_level0_row9\" class=\"row_heading level0 row9\" >rusrap</th>\n",
       "      <td id=\"T_6aa34_row9_col0\" class=\"data row9 col0\" >142</td>\n",
       "      <td id=\"T_6aa34_row9_col1\" class=\"data row9 col1\" >59</td>\n",
       "    </tr>\n",
       "    <tr>\n",
       "      <th id=\"T_6aa34_level0_row10\" class=\"row_heading level0 row10\" >jazz</th>\n",
       "      <td id=\"T_6aa34_row10_col0\" class=\"data row10 col0\" >0</td>\n",
       "      <td id=\"T_6aa34_row10_col1\" class=\"data row10 col1\" >61</td>\n",
       "    </tr>\n",
       "  </tbody>\n",
       "</table>\n"
      ],
      "text/plain": [
       "<pandas.io.formats.style.Styler at 0x18d6f936730>"
      ]
     },
     "execution_count": 189,
     "metadata": {},
     "output_type": "execute_result"
    }
   ],
   "source": [
    "#data for Moscow at fridays night\n",
    "friday_genres1 = genre_weekday(moscow_general, 'Friday', '17:00', '23:00')\n",
    "friday_genres1 = pd.DataFrame(friday_genres1)\n",
    "friday_genres1.columns = ['Москва']\n",
    "\n",
    "#data for SPb at fridays evening\n",
    "friday_genres2 = genre_weekday(spb_general, 'Friday', '17:00', '23:00')\n",
    "friday_genres2 = pd.DataFrame(friday_genres2)\n",
    "friday_genres2.columns = ['СПб']\n",
    "\n",
    "# resulting table\n",
    "friday = friday_genres1.merge(friday_genres2, left_index=True, right_index=True, how='outer').fillna(0)\n",
    "friday = friday.astype(int)\n",
    "print(\"Friday's evening genre comparison\")\n",
    "friday.sort_values(by='Москва', ascending=False).style.background_gradient('coolwarm')"
   ]
  },
  {
   "cell_type": "markdown",
   "id": "9f4cf67d",
   "metadata": {},
   "source": [
    "**Выводы**\n",
    "\n",
    "Если сравнить топ-10 жанров в понедельник утром, можно сделать такие выводы:\n",
    "\n",
    "1. В Москве и Петербурге слушают похожую музыку. Единственное отличие — в московский рейтинг вошёл жанр “world”, а в петербургский — джаз и классика.\n",
    "\n",
    "2. В Москве пропущенных значений оказалось так много, что значение `'unknown'` заняло десятое место среди самых популярных жанров. Значит, пропущенные значения занимают существенную долю в данных и угрожают достоверности исследования.\n",
    "\n",
    "Вечер пятницы не меняет эту картину. Некоторые жанры поднимаются немного выше, другие спускаются, но в целом топ-10 остаётся тем же самым.\n",
    "\n",
    "Таким образом, вторая гипотеза подтвердилась лишь частично:\n",
    "* Пользователи слушают похожую музыку в начале недели и в конце.\n",
    "* Разница между Москвой и Петербургом не слишком выражена. В Москве чаще слушают русскую популярную музыку, в Петербурге — джаз.\n",
    "\n",
    "Однако пропуски в данных ставят под сомнение этот результат. В Москве их так много, что рейтинг топ-10 мог бы выглядеть иначе, если бы не утерянные данные о жанрах (данные не были удалены, т.к. в данном учебном проекте необходимо было исследовать как влияют на результат данные пропуски)."
   ]
  },
  {
   "cell_type": "markdown",
   "id": "82518a95",
   "metadata": {},
   "source": [
    "### Жанровые предпочтения в Москве и Петербурге\n",
    "\n",
    "Гипотеза: Петербург — столица рэпа, музыку этого жанра там слушают чаще, чем в Москве.  А Москва — город контрастов, в котором, тем не менее, преобладает поп-музыка."
   ]
  },
  {
   "cell_type": "code",
   "execution_count": 190,
   "id": "27133cdc",
   "metadata": {},
   "outputs": [
    {
     "name": "stdout",
     "output_type": "stream",
     "text": [
      "Сравнение жанровых предпочтений в Москве и СПб\n"
     ]
    },
    {
     "data": {
      "text/html": [
       "<style type=\"text/css\">\n",
       "#T_43758_row0_col0, #T_43758_row0_col1 {\n",
       "  background-color: #b40426;\n",
       "  color: #f1f1f1;\n",
       "}\n",
       "#T_43758_row1_col0 {\n",
       "  background-color: #f7af91;\n",
       "  color: #000000;\n",
       "}\n",
       "#T_43758_row1_col1 {\n",
       "  background-color: #f59d7e;\n",
       "  color: #000000;\n",
       "}\n",
       "#T_43758_row2_col0 {\n",
       "  background-color: #f1cdba;\n",
       "  color: #000000;\n",
       "}\n",
       "#T_43758_row2_col1 {\n",
       "  background-color: #f7a889;\n",
       "  color: #000000;\n",
       "}\n",
       "#T_43758_row3_col0 {\n",
       "  background-color: #ead4c8;\n",
       "  color: #000000;\n",
       "}\n",
       "#T_43758_row3_col1 {\n",
       "  background-color: #f5c0a7;\n",
       "  color: #000000;\n",
       "}\n",
       "#T_43758_row4_col0 {\n",
       "  background-color: #7a9df8;\n",
       "  color: #f1f1f1;\n",
       "}\n",
       "#T_43758_row4_col1 {\n",
       "  background-color: #86a9fc;\n",
       "  color: #f1f1f1;\n",
       "}\n",
       "#T_43758_row5_col0 {\n",
       "  background-color: #5875e1;\n",
       "  color: #f1f1f1;\n",
       "}\n",
       "#T_43758_row5_col1, #T_43758_row7_col1 {\n",
       "  background-color: #4f69d9;\n",
       "  color: #f1f1f1;\n",
       "}\n",
       "#T_43758_row6_col0 {\n",
       "  background-color: #4b64d5;\n",
       "  color: #f1f1f1;\n",
       "}\n",
       "#T_43758_row6_col1, #T_43758_row9_col0 {\n",
       "  background-color: #3b4cc0;\n",
       "  color: #f1f1f1;\n",
       "}\n",
       "#T_43758_row7_col0, #T_43758_row8_col0 {\n",
       "  background-color: #485fd1;\n",
       "  color: #f1f1f1;\n",
       "}\n",
       "#T_43758_row8_col1 {\n",
       "  background-color: #3e51c5;\n",
       "  color: #f1f1f1;\n",
       "}\n",
       "#T_43758_row9_col1 {\n",
       "  background-color: #4257c9;\n",
       "  color: #f1f1f1;\n",
       "}\n",
       "</style>\n",
       "<table id=\"T_43758\">\n",
       "  <thead>\n",
       "    <tr>\n",
       "      <th class=\"blank level0\" >&nbsp;</th>\n",
       "      <th id=\"T_43758_level0_col0\" class=\"col_heading level0 col0\" >Москва</th>\n",
       "      <th id=\"T_43758_level0_col1\" class=\"col_heading level0 col1\" >СПб</th>\n",
       "    </tr>\n",
       "    <tr>\n",
       "      <th class=\"index_name level0\" >genre</th>\n",
       "      <th class=\"blank col0\" >&nbsp;</th>\n",
       "      <th class=\"blank col1\" >&nbsp;</th>\n",
       "    </tr>\n",
       "  </thead>\n",
       "  <tbody>\n",
       "    <tr>\n",
       "      <th id=\"T_43758_level0_row0\" class=\"row_heading level0 row0\" >pop</th>\n",
       "      <td id=\"T_43758_row0_col0\" class=\"data row0 col0\" >5892</td>\n",
       "      <td id=\"T_43758_row0_col1\" class=\"data row0 col1\" >2431</td>\n",
       "    </tr>\n",
       "    <tr>\n",
       "      <th id=\"T_43758_level0_row1\" class=\"row_heading level0 row1\" >dance</th>\n",
       "      <td id=\"T_43758_row1_col0\" class=\"data row1 col0\" >4435</td>\n",
       "      <td id=\"T_43758_row1_col1\" class=\"data row1 col1\" >1932</td>\n",
       "    </tr>\n",
       "    <tr>\n",
       "      <th id=\"T_43758_level0_row2\" class=\"row_heading level0 row2\" >rock</th>\n",
       "      <td id=\"T_43758_row2_col0\" class=\"data row2 col0\" >3965</td>\n",
       "      <td id=\"T_43758_row2_col1\" class=\"data row2 col1\" >1879</td>\n",
       "    </tr>\n",
       "    <tr>\n",
       "      <th id=\"T_43758_level0_row3\" class=\"row_heading level0 row3\" >electronic</th>\n",
       "      <td id=\"T_43758_row3_col0\" class=\"data row3 col0\" >3786</td>\n",
       "      <td id=\"T_43758_row3_col1\" class=\"data row3 col1\" >1737</td>\n",
       "    </tr>\n",
       "    <tr>\n",
       "      <th id=\"T_43758_level0_row4\" class=\"row_heading level0 row4\" >hiphop</th>\n",
       "      <td id=\"T_43758_row4_col0\" class=\"data row4 col0\" >2096</td>\n",
       "      <td id=\"T_43758_row4_col1\" class=\"data row4 col1\" >960</td>\n",
       "    </tr>\n",
       "    <tr>\n",
       "      <th id=\"T_43758_level0_row5\" class=\"row_heading level0 row5\" >classical</th>\n",
       "      <td id=\"T_43758_row5_col0\" class=\"data row5 col0\" >1616</td>\n",
       "      <td id=\"T_43758_row5_col1\" class=\"data row5 col1\" >646</td>\n",
       "    </tr>\n",
       "    <tr>\n",
       "      <th id=\"T_43758_level0_row6\" class=\"row_heading level0 row6\" >world</th>\n",
       "      <td id=\"T_43758_row6_col0\" class=\"data row6 col0\" >1432</td>\n",
       "      <td id=\"T_43758_row6_col1\" class=\"data row6 col1\" >515</td>\n",
       "    </tr>\n",
       "    <tr>\n",
       "      <th id=\"T_43758_level0_row7\" class=\"row_heading level0 row7\" >alternative</th>\n",
       "      <td id=\"T_43758_row7_col0\" class=\"data row7 col0\" >1379</td>\n",
       "      <td id=\"T_43758_row7_col1\" class=\"data row7 col1\" >649</td>\n",
       "    </tr>\n",
       "    <tr>\n",
       "      <th id=\"T_43758_level0_row8\" class=\"row_heading level0 row8\" >ruspop</th>\n",
       "      <td id=\"T_43758_row8_col0\" class=\"data row8 col0\" >1372</td>\n",
       "      <td id=\"T_43758_row8_col1\" class=\"data row8 col1\" >538</td>\n",
       "    </tr>\n",
       "    <tr>\n",
       "      <th id=\"T_43758_level0_row9\" class=\"row_heading level0 row9\" >rusrap</th>\n",
       "      <td id=\"T_43758_row9_col0\" class=\"data row9 col0\" >1161</td>\n",
       "      <td id=\"T_43758_row9_col1\" class=\"data row9 col1\" >564</td>\n",
       "    </tr>\n",
       "  </tbody>\n",
       "</table>\n"
      ],
      "text/plain": [
       "<pandas.io.formats.style.Styler at 0x18d6f967940>"
      ]
     },
     "execution_count": 190,
     "metadata": {},
     "output_type": "execute_result"
    }
   ],
   "source": [
    "# соберем данные по прослушиваемым жанрам в Москве и СПб\n",
    "# Москва\n",
    "moscow_genres = moscow_general.groupby('genre')['genre'].count().sort_values(ascending=False)[:10]\n",
    "moscow_genres = pd.DataFrame(moscow_genres)\n",
    "moscow_genres.columns = ['Москва']\n",
    "moscow_genres\n",
    "\n",
    "# СПб\n",
    "spb_genres = spb_general.groupby('genre')['genre'].count().sort_values(ascending=False)[:10]\n",
    "spb_genres = pd.DataFrame(spb_genres)\n",
    "spb_genres.columns = ['СПб']\n",
    "spb_genres\n",
    "\n",
    "# resulting table\n",
    "genres = moscow_genres.merge(spb_genres, left_index=True, right_index=True, how='outer').fillna(0)\n",
    "genres = genres.astype(int)\n",
    "print(\"Сравнение жанровых предпочтений в Москве и СПб\")\n",
    "genres.sort_values(by='Москва', ascending=False).style.background_gradient('coolwarm')"
   ]
  },
  {
   "cell_type": "markdown",
   "id": "44982a4f",
   "metadata": {},
   "source": [
    "**Выводы**\n",
    "\n",
    "Гипотеза частично подтвердилась:\n",
    "* Поп-музыка — самый популярный жанр в Москве, как и предполагала гипотеза. Более того, в топ-10 жанров встречается близкий жанр — русская популярная музыка.\n",
    "* Вопреки ожиданиям, рэп одинаково популярен в Москве и Петербурге. \n"
   ]
  },
  {
   "cell_type": "markdown",
   "id": "cbd5d7fe",
   "metadata": {},
   "source": [
    "## Итоги исследования\n",
    "Были проверены три гипотезы и установлено:\n",
    "\n",
    "1. День недели по-разному влияет на активность пользователей в Москве и Петербурге. **Первая гипотеза полностью подтвердилась.**\n",
    "\n",
    "2. Музыкальные предпочтения не сильно меняются в течение недели — будь то Москва или Петербург. Небольшие различия заметны в начале недели, по понедельникам. **Таким образом, вторая гипотеза подтвердилась лишь отчасти. Этот результат мог оказаться иным, если бы не пропуски в данных.**\n",
    "\n",
    "3. Во вкусах пользователей Москвы и Петербурга больше общего чем различий. Вопреки ожиданиям, предпочтения жанров в Петербурге напоминают московские. **Третья гипотеза не подтвердилась. Если различия в предпочтениях и существуют, на основной массе пользователей они незаметны.**\n",
    "\n",
    "### Примечания\n",
    "*В данном учебном проекте проверка гипотез не является проверкой статистических гипотез: датасет не располагает данными для статистического анализа. Здесь исследование выполнено подсчетом и сортировкой данных и делать выводы можно только касательно предоставленного датасета.*\n",
    "\n",
    "*Пропущенные значения в столбце 'genre' занимают существенную долю в данных и угрожают достоверности исследования. В рамках задания эти данные не были удалены, т.к. нужно было убедиться, что они повлияют на результат. Считаю, строки с неуказанным жанрами стоило удалить.*"
   ]
  },
  {
   "cell_type": "code",
   "execution_count": null,
   "id": "32695386",
   "metadata": {},
   "outputs": [],
   "source": []
  }
 ],
 "metadata": {
  "kernelspec": {
   "display_name": "Python 3 (ipykernel)",
   "language": "python",
   "name": "python3"
  },
  "language_info": {
   "codemirror_mode": {
    "name": "ipython",
    "version": 3
   },
   "file_extension": ".py",
   "mimetype": "text/x-python",
   "name": "python",
   "nbconvert_exporter": "python",
   "pygments_lexer": "ipython3",
   "version": "3.9.12"
  }
 },
 "nbformat": 4,
 "nbformat_minor": 5
}
